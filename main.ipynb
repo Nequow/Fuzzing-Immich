{
 "cells": [
  {
   "cell_type": "code",
   "execution_count": 43,
   "metadata": {},
   "outputs": [],
   "source": [
    "from fuzzingbook.GrammarFuzzer import GrammarFuzzer\n",
    "from fuzzingbook.Grammars import *\n",
    "from dotenv import load_dotenv\n",
    "import requests\n",
    "import socket\n",
    "import json\n",
    "import os"
   ]
  },
  {
   "cell_type": "code",
   "execution_count": 44,
   "metadata": {},
   "outputs": [],
   "source": [
    "def get_ip_adress():\n",
    "    s = socket.socket(socket.AF_INET, socket.SOCK_DGRAM)\n",
    "    s.connect((\"8.8.8.8\", 80))\n",
    "    result = s.getsockname()[0]\n",
    "    s.close()\n",
    "\n",
    "    return result"
   ]
  },
  {
   "cell_type": "code",
   "execution_count": 46,
   "metadata": {},
   "outputs": [],
   "source": [
    "def getAllAlbums(url, BEARER_TOKEN):\n",
    "    payload = {}\n",
    "    headers = {\n",
    "        'Accept': 'application/json',\n",
    "        'Authorization': f'Bearer {BEARER_TOKEN}'\n",
    "    }\n",
    "\n",
    "    return requests.request(\"GET\", url, headers=headers, data=payload)"
   ]
  },
  {
   "cell_type": "code",
   "execution_count": 37,
   "metadata": {},
   "outputs": [],
   "source": [
    "def createActivity(url, BEARER_TOKEN):\n",
    "    payload = json.dumps({\n",
    "        \"albumId\": \"d3f9b460-66e3-4298-afed-44473e3d136d\",\n",
    "        \"assetId\": \"8d43cc36-e806-474d-a898-deff81604eca\",\n",
    "        \"comment\": \"string\",\n",
    "        \"type\": \"comment\"\n",
    "    })\n",
    "\n",
    "    headers = {\n",
    "        'Content-Type': 'application/json',\n",
    "        'Accept': 'application/json',\n",
    "        'Authorization': f'Bearer {BEARER_TOKEN}'\n",
    "    }\n",
    "\n",
    "    return requests.request(\"POST\", url, headers=headers, data=payload)"
   ]
  },
  {
   "cell_type": "code",
   "execution_count": 45,
   "metadata": {},
   "outputs": [],
   "source": [
    "# Load environment variables\n",
    "load_dotenv()\n",
    "\n",
    "# Get the host URL\n",
    "host_url = f\"http://{get_ip_adress()}:2283\"\n",
    "\n",
    "# Get the bearer token\n",
    "BEARER_TOKEN = os.getenv('BEARER_TOKEN')"
   ]
  },
  {
   "cell_type": "code",
   "execution_count": null,
   "metadata": {},
   "outputs": [],
   "source": [
    "url = f\"{host_url}/api/albums\"\n",
    "response = getAllAlbums(url, BEARER_TOKEN)\n",
    "response.json()"
   ]
  },
  {
   "cell_type": "code",
   "execution_count": null,
   "metadata": {},
   "outputs": [],
   "source": [
    "url = f\"{host_url}/api/activities\"\n",
    "response = createActivity(url, BEARER_TOKEN)\n",
    "response.status_code"
   ]
  }
 ],
 "metadata": {
  "kernelspec": {
   "display_name": ".venv",
   "language": "python",
   "name": "python3"
  },
  "language_info": {
   "codemirror_mode": {
    "name": "ipython",
    "version": 3
   },
   "file_extension": ".py",
   "mimetype": "text/x-python",
   "name": "python",
   "nbconvert_exporter": "python",
   "pygments_lexer": "ipython3",
   "version": "3.13.0"
  }
 },
 "nbformat": 4,
 "nbformat_minor": 2
}
